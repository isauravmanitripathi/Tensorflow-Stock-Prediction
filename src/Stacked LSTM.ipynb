{
 "cells": [
  {
   "cell_type": "markdown",
   "id": "41422075-00ea-40b7-bfcd-4949e0c8dbff",
   "metadata": {},
   "source": [
    "# Nifty50 Closing Price Prediction using ML\n",
    "\n",
    "* Model: Stacked LSTM\n",
    "* Dataset: Nifty50 from Yahoo Fianance"
   ]
  },
  {
   "cell_type": "markdown",
   "id": "0fe541e5-4102-484c-962f-afc6784d0555",
   "metadata": {},
   "source": [
    "## Initialization"
   ]
  },
  {
   "cell_type": "code",
   "execution_count": 1,
   "id": "0be33dba-0220-4cba-a804-bf03de4aedc8",
   "metadata": {
    "tags": []
   },
   "outputs": [],
   "source": [
    "import pandas as pd\n",
    "import numpy as np\n",
    "import matplotlib.pyplot as plt"
   ]
  },
  {
   "cell_type": "markdown",
   "source": [
    "This code imports the necessary Python libraries for data analysis and visualization: Pandas, NumPy, and Matplotlib. Here's what each line does:\n",
    "\n",
    "import pandas as pd: This imports the Pandas library, which is used for data manipulation and analysis. The library is given an alias pd to make it easier to refer to it in the code.\n",
    "import numpy as np: This imports the NumPy library, which is used for numerical operations and array manipulation. The library is given an alias np to make it easier to refer to it in the code.\n",
    "import matplotlib.pyplot as plt: This imports the pyplot module from the Matplotlib library, which is used for data visualization. The module is given an alias plt to make it easier to refer to it in the code."
   ],
   "metadata": {
    "collapsed": false
   }
  },
  {
   "cell_type": "code",
   "execution_count": 2,
   "id": "ac1ae72d-9666-4895-b8ae-a2894d9e7927",
   "metadata": {},
   "outputs": [
    {
     "data": {
      "text/plain": "                   Open         High          Low        Close\nDate                                                          \n2007-09-17  4518.450195  4549.049805  4482.850098  4494.649902\n2007-09-18  4494.100098  4551.799805  4481.549805  4546.200195\n2007-09-19  4550.250000  4739.000000  4550.250000  4732.350098\n2007-09-20  4734.850098  4760.850098  4721.149902  4747.549805\n2007-09-21  4752.950195  4855.700195  4733.700195  4837.549805",
      "text/html": "<div>\n<style scoped>\n    .dataframe tbody tr th:only-of-type {\n        vertical-align: middle;\n    }\n\n    .dataframe tbody tr th {\n        vertical-align: top;\n    }\n\n    .dataframe thead th {\n        text-align: right;\n    }\n</style>\n<table border=\"1\" class=\"dataframe\">\n  <thead>\n    <tr style=\"text-align: right;\">\n      <th></th>\n      <th>Open</th>\n      <th>High</th>\n      <th>Low</th>\n      <th>Close</th>\n    </tr>\n    <tr>\n      <th>Date</th>\n      <th></th>\n      <th></th>\n      <th></th>\n      <th></th>\n    </tr>\n  </thead>\n  <tbody>\n    <tr>\n      <th>2007-09-17</th>\n      <td>4518.450195</td>\n      <td>4549.049805</td>\n      <td>4482.850098</td>\n      <td>4494.649902</td>\n    </tr>\n    <tr>\n      <th>2007-09-18</th>\n      <td>4494.100098</td>\n      <td>4551.799805</td>\n      <td>4481.549805</td>\n      <td>4546.200195</td>\n    </tr>\n    <tr>\n      <th>2007-09-19</th>\n      <td>4550.250000</td>\n      <td>4739.000000</td>\n      <td>4550.250000</td>\n      <td>4732.350098</td>\n    </tr>\n    <tr>\n      <th>2007-09-20</th>\n      <td>4734.850098</td>\n      <td>4760.850098</td>\n      <td>4721.149902</td>\n      <td>4747.549805</td>\n    </tr>\n    <tr>\n      <th>2007-09-21</th>\n      <td>4752.950195</td>\n      <td>4855.700195</td>\n      <td>4733.700195</td>\n      <td>4837.549805</td>\n    </tr>\n  </tbody>\n</table>\n</div>"
     },
     "metadata": {},
     "output_type": "display_data"
    },
    {
     "data": {
      "text/plain": "                   Open         High          Low        Close\nDate                                                          \n2021-04-26  14449.45020  14557.50000  14421.29981  14485.00000\n2021-04-27  14493.79981  14667.54981  14484.84961  14653.04981\n2021-04-28  14710.50000  14890.25000  14694.95020  14864.54981\n2021-04-29  14979.00000  15044.34961  14814.45020  14894.90039\n2021-04-30  14747.34961  14855.45020  14601.70020  14631.09961",
      "text/html": "<div>\n<style scoped>\n    .dataframe tbody tr th:only-of-type {\n        vertical-align: middle;\n    }\n\n    .dataframe tbody tr th {\n        vertical-align: top;\n    }\n\n    .dataframe thead th {\n        text-align: right;\n    }\n</style>\n<table border=\"1\" class=\"dataframe\">\n  <thead>\n    <tr style=\"text-align: right;\">\n      <th></th>\n      <th>Open</th>\n      <th>High</th>\n      <th>Low</th>\n      <th>Close</th>\n    </tr>\n    <tr>\n      <th>Date</th>\n      <th></th>\n      <th></th>\n      <th></th>\n      <th></th>\n    </tr>\n  </thead>\n  <tbody>\n    <tr>\n      <th>2021-04-26</th>\n      <td>14449.45020</td>\n      <td>14557.50000</td>\n      <td>14421.29981</td>\n      <td>14485.00000</td>\n    </tr>\n    <tr>\n      <th>2021-04-27</th>\n      <td>14493.79981</td>\n      <td>14667.54981</td>\n      <td>14484.84961</td>\n      <td>14653.04981</td>\n    </tr>\n    <tr>\n      <th>2021-04-28</th>\n      <td>14710.50000</td>\n      <td>14890.25000</td>\n      <td>14694.95020</td>\n      <td>14864.54981</td>\n    </tr>\n    <tr>\n      <th>2021-04-29</th>\n      <td>14979.00000</td>\n      <td>15044.34961</td>\n      <td>14814.45020</td>\n      <td>14894.90039</td>\n    </tr>\n    <tr>\n      <th>2021-04-30</th>\n      <td>14747.34961</td>\n      <td>14855.45020</td>\n      <td>14601.70020</td>\n      <td>14631.09961</td>\n    </tr>\n  </tbody>\n</table>\n</div>"
     },
     "metadata": {},
     "output_type": "display_data"
    }
   ],
   "source": [
    "df = pd.read_csv('./dataset/NIFTY50.csv')\n",
    "df.index = pd.to_datetime(df['Date']).dt.date\n",
    "\n",
    "df.drop(['Date', 'Adj Close'], axis='columns', inplace=True)\n",
    "display(df.head())\n",
    "display(df.tail())"
   ]
  },
  {
   "cell_type": "markdown",
   "source": [
    "This code reads in a CSV file containing historical data for the NIFTY50 stock market index and creates a Pandas DataFrame with the data. Here's what each line does:\n",
    "\n",
    "df = pd.read_csv('./dataset/NIFTY50.csv'): This uses the Pandas read_csv() function to read in the CSV file located in the ./dataset directory and creates a DataFrame called df to store the data.\n",
    "df.index = pd.to_datetime(df['Date']).dt.date: This converts the \"Date\" column of the DataFrame into a DatetimeIndex object using the pd.to_datetime() function, and sets it as the index of the DataFrame. The .dt.date attribute is used to extract the date component of the timestamps.\n",
    "df.drop(['Date', 'Adj Close'], axis='columns', inplace=True): This drops the \"Date\" and \"Adj Close\" columns from the DataFrame using the drop() method with the axis='columns' parameter. The inplace=True parameter is used to modify the DataFrame in place rather than returning a new DataFrame.\n",
    "display(df.head()): This displays the first 5 rows of the DataFrame using the head() method.\n",
    "display(df.tail()): This displays the last 5 rows of the DataFrame using the tail() method."
   ],
   "metadata": {
    "collapsed": false
   }
  },
  {
   "cell_type": "code",
   "execution_count": 3,
   "id": "d6e43094-9aba-46e2-a133-ede2cd5e97d9",
   "metadata": {},
   "outputs": [
    {
     "name": "stdout",
     "output_type": "stream",
     "text": [
      "Dataset Shape: (3326, 4)\n",
      "\n",
      "<class 'pandas.core.frame.DataFrame'>\n",
      "Index: 3326 entries, 2007-09-17 to 2021-04-30\n",
      "Data columns (total 4 columns):\n",
      " #   Column  Non-Null Count  Dtype  \n",
      "---  ------  --------------  -----  \n",
      " 0   Open    3326 non-null   float64\n",
      " 1   High    3326 non-null   float64\n",
      " 2   Low     3326 non-null   float64\n",
      " 3   Close   3326 non-null   float64\n",
      "dtypes: float64(4)\n",
      "memory usage: 129.9+ KB\n"
     ]
    },
    {
     "data": {
      "text/plain": "None"
     },
     "metadata": {},
     "output_type": "display_data"
    }
   ],
   "source": [
    "print(f'Dataset Shape: {df.shape}\\n')\n",
    "display(df.info())"
   ]
  },
  {
   "cell_type": "markdown",
   "source": [
    "This code prints information about the df DataFrame, including its shape and column data types, using the shape and info() methods. Here's what each line does:\n",
    "\n",
    "print(f'Dataset Shape: {df.shape}\\n'): This prints a formatted string to the console that displays the number of rows and columns in the DataFrame.\n",
    "display(df.info()): This displays a summary of the DataFrame's columns, including the column names, non-null values, and data types, using the info() method. The display() function is used to render the summary nicely in Jupyter notebooks."
   ],
   "metadata": {
    "collapsed": false
   }
  },
  {
   "cell_type": "code",
   "execution_count": 4,
   "id": "5ec8a775-054d-400b-bc1a-f5fb698d0041",
   "metadata": {},
   "outputs": [],
   "source": [
    "window_len = 5\n",
    "feature = 'Open'"
   ]
  },
  {
   "cell_type": "markdown",
   "source": [
    "These two lines of code define variables that will be used later in the code. Here's what each line does:\n",
    "\n",
    "window_len = 5: This sets the value of the window_len variable to 5. This variable will be used to define the size of the rolling window that will be used to generate technical indicators.\n",
    "feature = 'Open': This sets the value of the feature variable to 'Open'. This variable will be used to specify which column of the DataFrame to use as the feature for the machine learning model."
   ],
   "metadata": {
    "collapsed": false
   }
  },
  {
   "cell_type": "markdown",
   "id": "4421959a-4ee2-44dc-b81b-f7cd87cab27e",
   "metadata": {},
   "source": [
    "## Train-Test Split"
   ]
  },
  {
   "cell_type": "code",
   "execution_count": 5,
   "id": "1fa95c55-da45-4120-beb9-0e8556386554",
   "metadata": {},
   "outputs": [],
   "source": [
    "from sklearn.model_selection import train_test_split\n",
    "\n",
    "df_train, df_test = train_test_split(df, test_size=0.2, shuffle=False)"
   ]
  },
  {
   "cell_type": "markdown",
   "source": [
    "This code uses the train_test_split() function from the scikit-learn library to split the df DataFrame into training and testing sets for use in a machine learning model. Here's what each line does:\n",
    "\n",
    "from sklearn.model_selection import train_test_split: This imports the train_test_split() function from the scikit-learn library. This function is used to split a dataset into training and testing sets.\n",
    "\n",
    "df_train, df_test = train_test_split(df, test_size=0.2, shuffle=False): This splits the df DataFrame into training and testing sets using the train_test_split() function. The test_size parameter is set to 0.2, which means that 20% of the data will be used for testing and 80% will be used for training. The shuffle parameter is set to False, which means that the data will not be shuffled before splitting. The resulting training and testing sets are assigned to the df_train and df_test variables, respectively."
   ],
   "metadata": {
    "collapsed": false
   }
  },
  {
   "cell_type": "code",
   "execution_count": 6,
   "id": "90a17b14-263a-4345-8816-7aa48eb0a744",
   "metadata": {},
   "outputs": [
    {
     "data": {
      "text/plain": "                   Open         High          Low        Close\nDate                                                          \n2007-09-17  4518.450195  4549.049805  4482.850098  4494.649902\n2007-09-18  4494.100098  4551.799805  4481.549805  4546.200195\n2007-09-19  4550.250000  4739.000000  4550.250000  4732.350098\n2007-09-20  4734.850098  4760.850098  4721.149902  4747.549805\n2007-09-21  4752.950195  4855.700195  4733.700195  4837.549805",
      "text/html": "<div>\n<style scoped>\n    .dataframe tbody tr th:only-of-type {\n        vertical-align: middle;\n    }\n\n    .dataframe tbody tr th {\n        vertical-align: top;\n    }\n\n    .dataframe thead th {\n        text-align: right;\n    }\n</style>\n<table border=\"1\" class=\"dataframe\">\n  <thead>\n    <tr style=\"text-align: right;\">\n      <th></th>\n      <th>Open</th>\n      <th>High</th>\n      <th>Low</th>\n      <th>Close</th>\n    </tr>\n    <tr>\n      <th>Date</th>\n      <th></th>\n      <th></th>\n      <th></th>\n      <th></th>\n    </tr>\n  </thead>\n  <tbody>\n    <tr>\n      <th>2007-09-17</th>\n      <td>4518.450195</td>\n      <td>4549.049805</td>\n      <td>4482.850098</td>\n      <td>4494.649902</td>\n    </tr>\n    <tr>\n      <th>2007-09-18</th>\n      <td>4494.100098</td>\n      <td>4551.799805</td>\n      <td>4481.549805</td>\n      <td>4546.200195</td>\n    </tr>\n    <tr>\n      <th>2007-09-19</th>\n      <td>4550.250000</td>\n      <td>4739.000000</td>\n      <td>4550.250000</td>\n      <td>4732.350098</td>\n    </tr>\n    <tr>\n      <th>2007-09-20</th>\n      <td>4734.850098</td>\n      <td>4760.850098</td>\n      <td>4721.149902</td>\n      <td>4747.549805</td>\n    </tr>\n    <tr>\n      <th>2007-09-21</th>\n      <td>4752.950195</td>\n      <td>4855.700195</td>\n      <td>4733.700195</td>\n      <td>4837.549805</td>\n    </tr>\n  </tbody>\n</table>\n</div>"
     },
     "execution_count": 6,
     "metadata": {},
     "output_type": "execute_result"
    }
   ],
   "source": [
    "df_train.head()"
   ]
  },
  {
   "cell_type": "markdown",
   "source": [
    "This code displays the first 5 rows of the df_train DataFrame using the head() method. Here's what this line does:\n",
    "\n",
    "df_train.head(): This displays the first 5 rows of the df_train DataFrame using the head() method. This method returns a new DataFrame containing the first n rows of the original DataFrame, where n is the number specified as the argument (5 by default)."
   ],
   "metadata": {
    "collapsed": false
   }
  },
  {
   "cell_type": "code",
   "execution_count": 7,
   "id": "54d53308-dd57-4d30-8fea-edcb25245846",
   "metadata": {},
   "outputs": [
    {
     "data": {
      "text/plain": "                   Open         High          Low       Close\nDate                                                         \n2018-08-07  11423.15039  11428.95020  11359.70020  11389.4502\n2018-08-08  11412.50000  11459.95020  11379.29981  11450.0000\n2018-08-09  11493.25000  11495.20020  11454.09961  11470.7002\n2018-08-10  11474.95020  11478.75000  11419.65039  11429.5000\n2018-08-13  11369.59961  11406.29981  11340.29981  11355.7500",
      "text/html": "<div>\n<style scoped>\n    .dataframe tbody tr th:only-of-type {\n        vertical-align: middle;\n    }\n\n    .dataframe tbody tr th {\n        vertical-align: top;\n    }\n\n    .dataframe thead th {\n        text-align: right;\n    }\n</style>\n<table border=\"1\" class=\"dataframe\">\n  <thead>\n    <tr style=\"text-align: right;\">\n      <th></th>\n      <th>Open</th>\n      <th>High</th>\n      <th>Low</th>\n      <th>Close</th>\n    </tr>\n    <tr>\n      <th>Date</th>\n      <th></th>\n      <th></th>\n      <th></th>\n      <th></th>\n    </tr>\n  </thead>\n  <tbody>\n    <tr>\n      <th>2018-08-07</th>\n      <td>11423.15039</td>\n      <td>11428.95020</td>\n      <td>11359.70020</td>\n      <td>11389.4502</td>\n    </tr>\n    <tr>\n      <th>2018-08-08</th>\n      <td>11412.50000</td>\n      <td>11459.95020</td>\n      <td>11379.29981</td>\n      <td>11450.0000</td>\n    </tr>\n    <tr>\n      <th>2018-08-09</th>\n      <td>11493.25000</td>\n      <td>11495.20020</td>\n      <td>11454.09961</td>\n      <td>11470.7002</td>\n    </tr>\n    <tr>\n      <th>2018-08-10</th>\n      <td>11474.95020</td>\n      <td>11478.75000</td>\n      <td>11419.65039</td>\n      <td>11429.5000</td>\n    </tr>\n    <tr>\n      <th>2018-08-13</th>\n      <td>11369.59961</td>\n      <td>11406.29981</td>\n      <td>11340.29981</td>\n      <td>11355.7500</td>\n    </tr>\n  </tbody>\n</table>\n</div>"
     },
     "execution_count": 7,
     "metadata": {},
     "output_type": "execute_result"
    }
   ],
   "source": [
    "df_test.head()"
   ]
  },
  {
   "cell_type": "markdown",
   "source": [
    "This code displays the first 5 rows of the df_test DataFrame using the head() method. Here's what this line does:\n",
    "\n",
    "df_test.head(): This displays the first 5 rows of the df_test DataFrame using the head() method. This method returns a new DataFrame containing the first n rows of the original DataFrame, where n is the number specified as the argument (5 by default)."
   ],
   "metadata": {
    "collapsed": false
   }
  },
  {
   "cell_type": "markdown",
   "id": "a3542b5e-0d32-4b47-a213-f6f778184383",
   "metadata": {},
   "source": [
    "## Plotting Closing Prices"
   ]
  },
  {
   "cell_type": "code",
   "execution_count": 8,
   "id": "9e4cacb4-bd7e-4738-91e4-d19457e7e99d",
   "metadata": {},
   "outputs": [
    {
     "data": {
      "text/plain": "<matplotlib.legend.Legend at 0x168e7d7f0>"
     },
     "execution_count": 8,
     "metadata": {},
     "output_type": "execute_result"
    },
    {
     "data": {
      "text/plain": "<Figure size 2300x600 with 1 Axes>",
      "image/png": "[encoded data removed]"
     },
     "metadata": {},
     "output_type": "display_data"
    }
   ],
   "source": [
    "fig, ax = plt.subplots(figsize=(23, 6))\n",
    "ax.plot(df_train[feature], label='Train')\n",
    "ax.plot(df_test[feature], label='Test')\n",
    "ax.set_xlabel('Year', fontsize=12)\n",
    "ax.set_ylabel('Closing Price (INR)', fontsize=12)\n",
    "ax.set_title('Closing Price of Nifty50', fontsize=16)\n",
    "ax.legend(fontsize=12)"
   ]
  },
  {
   "cell_type": "markdown",
   "source": [
    "This code creates a line chart using Matplotlib to visualize the training and testing data for the \"Open\" column of the df DataFrame. Here's what each line does:\n",
    "\n",
    "fig, ax = plt.subplots(figsize=(23, 6)): This creates a new figure and axes for the plot, with a width of 23 inches and a height of 6 inches. The fig variable stores the figure object, while the ax variable stores the axes object.\n",
    "ax.plot(df_train[feature], label='Train'): This plots the \"Open\" column of the df_train DataFrame on the ax axes object as a line chart. The label parameter is set to \"Train\" to create a legend entry for the training data.\n",
    "ax.plot(df_test[feature], label='Test'): This plots the \"Open\" column of the df_test DataFrame on the ax axes object as a line chart. The label parameter is set to \"Test\" to create a legend entry for the testing data.\n",
    "ax.set_xlabel('Year', fontsize=12): This sets the label for the x-axis to \"Year\" with a font size of 12.\n",
    "ax.set_ylabel('Closing Price (INR)', fontsize=12): This sets the label for the y-axis to \"Closing Price (INR)\" with a font size of 12.\n",
    "ax.set_title('Closing Price of Nifty50', fontsize=16): This sets the title of the plot to \"Closing Price of Nifty50\" with a font size of 16.\n",
    "ax.legend(fontsize=12): This adds a legend to the plot with font size of 12. The legend entries are automatically generated from the label parameters passed to the plot() method calls."
   ],
   "metadata": {
    "collapsed": false
   }
  },
  {
   "cell_type": "markdown",
   "id": "c7b22c37-23bd-4efd-8fcc-1d37395201de",
   "metadata": {},
   "source": [
    "## Data Preprocessing"
   ]
  },
  {
   "cell_type": "code",
   "execution_count": 9,
   "id": "5e1ecf47-8c44-42dd-a73a-20ff12742cf1",
   "metadata": {},
   "outputs": [],
   "source": [
    "train = np.array(df_train[feature]).reshape(-1, 1)\n",
    "test  = np.array(df_test [feature]).reshape(-1, 1)"
   ]
  },
  {
   "cell_type": "markdown",
   "source": [
    "This code converts the \"Open\" column of the df_train and df_test DataFrames into NumPy arrays and reshapes them into 2D arrays with a single column. Here's what each line does:\n",
    "\n",
    "train = np.array(df_train[feature]): This converts the \"Open\" column of the df_train DataFrame into a NumPy array using the np.array() function and assigns it to the train variable.\n",
    "train = train.reshape(-1, 1): This reshapes the train array into a 2D array with a single column and as many rows as necessary. The -1 parameter in the reshape() method is used to indicate that the number of rows should be automatically determined based on the size of the original array.\n",
    "test = np.array(df_test[feature]): This converts the \"Open\" column of the df_test DataFrame into a NumPy array using the np.array() function and assigns it to the test variable.\n",
    "test = test.reshape(-1, 1): This reshapes the test array into a 2D array with a single column and as many rows as necessary. The -1 parameter in the reshape() method is used to indicate that the number of rows should be automatically determined based on the size of the original array."
   ],
   "metadata": {
    "collapsed": false
   }
  },
  {
   "cell_type": "markdown",
   "id": "1a03e77c-fe75-4aa1-99d9-90f8ff6eca93",
   "metadata": {},
   "source": [
    "### Imputation\n",
    "\n",
    "* Needed if null values present"
   ]
  },
  {
   "cell_type": "code",
   "execution_count": 10,
   "id": "3cd54409-9bf8-4af9-ba34-93bb1f279eff",
   "metadata": {},
   "outputs": [
    {
     "name": "stdout",
     "output_type": "stream",
     "text": [
      "Null value count:\n",
      "Open     0\n",
      "High     0\n",
      "Low      0\n",
      "Close    0\n",
      "dtype: int64\n"
     ]
    }
   ],
   "source": [
    "print(f'Null value count:\\n{df.isnull().sum()}')"
   ]
  },
  {
   "cell_type": "markdown",
   "source": [
    "This code prints the number of null values in each column of the df DataFrame using the isnull() and sum() methods. Here's what this line does:\n",
    "\n",
    "print(f'Null value count:\\n{df.isnull().sum()}'): This prints a formatted string to the console that displays the number of null values in each column of the df DataFrame. The isnull() method is used to generate a Boolean mask indicating which elements of the DataFrame are null, and the sum() method is used to count the number of null values in each column. The string contains a newline character \\n to separate the column counts on separate lines."
   ],
   "metadata": {
    "collapsed": false
   }
  },
  {
   "cell_type": "markdown",
   "id": "2c9c11b2-9b72-4670-88aa-acb6e210e66f",
   "metadata": {},
   "source": [
    "### Feature Scaling"
   ]
  },
  {
   "cell_type": "code",
   "execution_count": 11,
   "id": "c00b64d8-3367-469d-bdc3-cf4a8893341c",
   "metadata": {},
   "outputs": [
    {
     "name": "stdout",
     "output_type": "stream",
     "text": [
      "Scaled Training Set Example: [0.22206966]\n",
      "Scaled Testing  Set Example: [1.00244695]\n"
     ]
    }
   ],
   "source": [
    "from sklearn.preprocessing import MinMaxScaler\n",
    "\n",
    "scaler = MinMaxScaler(feature_range=(0, 1))\n",
    "scaler.fit(train)\n",
    "\n",
    "train_sc = scaler.transform(train)\n",
    "test_sc  = scaler.transform(test )\n",
    "\n",
    "print(f'Scaled Training Set Example:', train_sc[0])\n",
    "print(f'Scaled Testing  Set Example:', test_sc [0])"
   ]
  },
  {
   "cell_type": "markdown",
   "source": [
    "This code uses the MinMaxScaler() class from the scikit-learn library to scale the \"Open\" values in the train and test arrays to a range between 0 and 1. Here's what each line does:\n",
    "\n",
    "from sklearn.preprocessing import MinMaxScaler: This imports the MinMaxScaler() class from the scikit-learn library. This class is used to scale the feature values to a specified range.\n",
    "scaler = MinMaxScaler(feature_range=(0, 1)): This creates a MinMaxScaler object called scaler that will scale the feature values to a range between 0 and 1.\n",
    "scaler.fit(train): This fits the scaler object to the training data in the train array. This computes the minimum and maximum values of the feature values in the training data, which will be used to scale the feature values.\n",
    "train_sc = scaler.transform(train): This scales the feature values in the train array using the transform() method of the scaler object. The resulting scaled feature values are assigned to the train_sc variable.\n",
    "test_sc = scaler.transform(test): This scales the feature values in the test array using the transform() method of the scaler object. The resulting scaled feature values are assigned to the test_sc variable.\n",
    "print(f'Scaled Training Set Example:', train_sc[0]): This prints the first example in the train_sc array to the console to verify that the scaling has been performed correctly.\n",
    "print(f'Scaled Testing Set Example:', test_sc[0]): This prints the first example in the test_sc array to the console to verify that the scaling has been performed correctly."
   ],
   "metadata": {
    "collapsed": false
   }
  },
  {
   "cell_type": "code",
   "execution_count": 12,
   "id": "ba6ded17-61c5-47ca-bac3-8df5bcdf74fc",
   "metadata": {},
   "outputs": [],
   "source": [
    "def to_time_windows(data, window_len):\n",
    "    windows = []\n",
    "    for i in range(len(data) - window_len):\n",
    "        windows.append(data[i:i+window_len])\n",
    "    return np.array(windows)\n",
    "\n",
    "X_train_sc = to_time_windows(train_sc, window_len)\n",
    "X_test_sc  = to_time_windows(test_sc , window_len)\n",
    "\n",
    "y_train_sc = train_sc[window_len:]\n",
    "y_test_sc  = test_sc [window_len:]\n",
    "\n",
    "y_train = scaler.inverse_transform(y_train_sc)\n",
    "y_test  = scaler.inverse_transform(y_test_sc)"
   ]
  },
  {
   "cell_type": "markdown",
   "source": [
    "This code defines a function to_time_windows() that converts a 1D array of time series data into a 2D array of overlapping time windows. It also uses this function to generate the input and output arrays for the machine learning model. Here's what each line does:\n",
    "\n",
    "def to_time_windows(data, window_len):: This defines a function called to_time_windows() that takes two arguments: data, which is a 1D array of time series data, and window_len, which is the length of the time windows to generate.\n",
    "windows = []: This creates an empty list called windows that will store the time windows.\n",
    "for i in range(len(data) - window_len):: This loops through the indices of the data array up to len(data) - window_len, which ensures that there is enough data to generate a complete time window of length window_len.\n",
    "windows.append(data[i:i+window_len]): This appends a slice of the data array starting at index i and ending at index i+window_len to the windows list. This slice represents a time window of length window_len.\n",
    "return np.array(windows): This returns the windows list as a NumPy array.\n",
    "X_train_sc = to_time_windows(train_sc, window_len): This generates a 2D array of input features for the training data by calling the to_time_windows() function on the train_sc array with a window length of window_len. The resulting array is assigned to the X_train_sc variable.\n",
    "X_test_sc = to_time_windows(test_sc, window_len): This generates a 2D array of input features for the testing data by calling the to_time_windows() function on the test_sc array with a window length of window_len. The resulting array is assigned to the X_test_sc variable.\n",
    "y_train_sc = train_sc[window_len:]: This generates a 1D array of output values for the training data by taking a slice of the train_sc array starting at index window_len. The resulting array represents the scaled output values that correspond to the input features in X_train_sc, and is assigned to the y_train_sc variable.\n",
    "y_test_sc = test_sc[window_len:]: This generates a 1D array of output values for the testing data by taking a slice of the test_sc array starting at index window_len. The resulting array represents the scaled output values that correspond to the input features in X_test_sc, and is assigned to the y_test_sc variable.\n",
    "y_train = scaler.inverse_transform(y_train_sc): This unscales the output values for the training data by calling the inverse_transform() method of the scaler object on the y_train_sc array. The resulting array represents the actual output values that correspond to the input features in X_train_sc, and is assigned to the y_train variable.\n",
    "y_test = scaler.inverse_transform(y_test_sc): This unscales the output values for the testing data by calling the inverse_transform() method of the scaler object on the y_test_sc array. The resulting array represents the actual output values that correspond to the input features in X_test_sc, and is assigned to the y_test variable."
   ],
   "metadata": {
    "collapsed": false
   }
  },
  {
   "cell_type": "markdown",
   "id": "14b9164b-ffcd-4707-9d4c-2703f6cb1774",
   "metadata": {},
   "source": [
    "## Building the Recurrent Neural Network"
   ]
  },
  {
   "cell_type": "markdown",
   "id": "f5052ee9-84b6-476c-8fac-59d3109f28be",
   "metadata": {},
   "source": [
    "### Setup Keras"
   ]
  },
  {
   "cell_type": "code",
   "execution_count": 21,
   "outputs": [
    {
     "name": "stdout",
     "output_type": "stream",
     "text": [
      "Requirement already satisfied: keras in /Users/sauravmanitripathi/Documents/StockPrediction-main/venv/lib/python3.9/site-packages (2.12.0)\r\n"
     ]
    }
   ],
   "source": [
    "!pip install keras"
   ],
   "metadata": {
    "collapsed": false
   }
  },
  {
   "cell_type": "code",
   "execution_count": 23,
   "outputs": [
    {
     "name": "stdout",
     "output_type": "stream",
     "text": [
      "\u001B[31mERROR: Could not find a version that satisfies the requirement tensorflow (from versions: none)\u001B[0m\u001B[31m\r\n",
      "\u001B[0m\u001B[31mERROR: No matching distribution found for tensorflow\u001B[0m\u001B[31m\r\n",
      "\u001B[0m"
     ]
    }
   ],
   "source": [
    "!pip install tensorflow"
   ],
   "metadata": {
    "collapsed": false
   }
  },
  {
   "cell_type": "code",
   "execution_count": 17,
   "id": "47386c29-822e-4843-9462-9ab925dffb74",
   "metadata": {},
   "outputs": [
    {
     "ename": "ModuleNotFoundError",
     "evalue": "No module named 'tensorflow'",
     "output_type": "error",
     "traceback": [
      "\u001B[0;31m---------------------------------------------------------------------------\u001B[0m",
      "\u001B[0;31mModuleNotFoundError\u001B[0m                       Traceback (most recent call last)",
      "Cell \u001B[0;32mIn[17], line 4\u001B[0m\n\u001B[1;32m      1\u001B[0m \u001B[38;5;28;01mimport\u001B[39;00m \u001B[38;5;21;01mos\u001B[39;00m\n\u001B[1;32m      2\u001B[0m os\u001B[38;5;241m.\u001B[39menviron[\u001B[38;5;124m'\u001B[39m\u001B[38;5;124mTF_CPP_MIN_LOG_LEVEL\u001B[39m\u001B[38;5;124m'\u001B[39m] \u001B[38;5;241m=\u001B[39m \u001B[38;5;124m'\u001B[39m\u001B[38;5;124m2\u001B[39m\u001B[38;5;124m'\u001B[39m\n\u001B[0;32m----> 4\u001B[0m \u001B[38;5;28;01mimport\u001B[39;00m \u001B[38;5;21;01mtensorflow\u001B[39;00m \u001B[38;5;28;01mas\u001B[39;00m \u001B[38;5;21;01mtf\u001B[39;00m\n\u001B[1;32m      5\u001B[0m \u001B[38;5;28;01mfrom\u001B[39;00m \u001B[38;5;21;01mtensorflow\u001B[39;00m\u001B[38;5;21;01m.\u001B[39;00m\u001B[38;5;21;01mkeras\u001B[39;00m \u001B[38;5;28;01mimport\u001B[39;00m Sequential\n\u001B[1;32m      6\u001B[0m \u001B[38;5;28;01mfrom\u001B[39;00m \u001B[38;5;21;01mtensorflow\u001B[39;00m\u001B[38;5;21;01m.\u001B[39;00m\u001B[38;5;21;01mkeras\u001B[39;00m\u001B[38;5;21;01m.\u001B[39;00m\u001B[38;5;21;01mlayers\u001B[39;00m \u001B[38;5;28;01mimport\u001B[39;00m Activation, Dense, Dropout, LSTM\n",
      "\u001B[0;31mModuleNotFoundError\u001B[0m: No module named 'tensorflow'"
     ]
    }
   ],
   "source": [
    "import os\n",
    "os.environ['TF_CPP_MIN_LOG_LEVEL'] = '2'\n",
    "\n",
    "import tensorflow as tf\n",
    "from tensorflow.keras import Sequential\n",
    "from tensorflow.keras.layers import Activation, Dense, Dropout, LSTM"
   ]
  },
  {
   "cell_type": "markdown",
   "source": [
    "This is a Python script that imports the TensorFlow library and sets the environment variable 'TF_CPP_MIN_LOG_LEVEL' to '2', which suppresses warnings related to TensorFlow compilation.\n",
    "\n",
    "It then defines a sequential model using the Keras API from TensorFlow, which is a high-level API that allows for easy and efficient building of deep learning models.\n",
    "\n",
    "The model consists of a sequence of layers, starting with a dense layer with a ReLU activation function, followed by a dropout layer, and finally an LSTM (long short-term memory) layer.\n",
    "\n",
    "The dense layer performs a linear transformation of the input data and applies a non-linear activation function to produce the output. The dropout layer randomly sets a fraction of input units to 0 at each update during training, which helps prevent overfitting. The LSTM layer is a type of recurrent neural network layer that is particularly effective for processing sequential data, such as time series data or natural language text."
   ],
   "metadata": {
    "collapsed": false
   }
  },
  {
   "cell_type": "markdown",
   "id": "d7f24fd5-b9ea-40e8-98b9-77b566d5c234",
   "metadata": {},
   "source": [
    "### Initialising the RNN"
   ]
  },
  {
   "cell_type": "markdown",
   "source": [],
   "metadata": {
    "collapsed": false
   }
  },
  {
   "cell_type": "code",
   "execution_count": null,
   "id": "0bfc85b6-7c2a-4e02-9b20-a9d97cb059ff",
   "metadata": {},
   "outputs": [],
   "source": [
    "def build_model(data, window_len):\n",
    "    model = Sequential()\n",
    "    \n",
    "    # Layer 1, shape = (window length, no of features)\n",
    "    model.add(LSTM(units=50, return_sequences=True, input_shape=(window_len, len(data[0][0]))))\n",
    "    model.add(Dropout(0.2))\n",
    "    \n",
    "    # Layer 2\n",
    "    model.add(LSTM(units=50))\n",
    "    model.add(Dropout(0.2))\n",
    "    \n",
    "    # Output Layer\n",
    "    model.add(Dense(units=1))\n",
    "    model.add(Activation('relu'))\n",
    "    \n",
    "    model.compile(optimizer='adam', loss='mean_squared_error')\n",
    "    \n",
    "    display(model.summary())\n",
    "    return model\n",
    "\n",
    "model = build_model(X_train_sc, window_len)"
   ]
  },
  {
   "cell_type": "markdown",
   "source": [
    "This is a Python function that builds a deep learning model using the Keras API from TensorFlow. The model takes in a 3-dimensional input tensor data and a window_len parameter, which determines the length of the input sequence.\n",
    "\n",
    "The function first creates an instance of the Sequential class, which allows us to define a sequence of layers for the model. Then, the function adds the first LSTM layer with 50 units, which is a type of recurrent neural network layer that is particularly effective for processing sequential data.\n",
    "\n",
    "The return_sequences parameter is set to True because we want the LSTM layer to return a sequence of outputs instead of just the final output. The input_shape parameter is set to (window_len, len(data[0][0])), which specifies the shape of the input tensor.\n",
    "\n",
    "After the first LSTM layer, the function adds a dropout layer with a dropout rate of 0.2. The Dropout layer randomly sets a fraction of input units to 0 at each update during training, which helps prevent overfitting.\n",
    "\n",
    "Next, the function adds a second LSTM layer with 50 units and another dropout layer with a dropout rate of 0.2.\n",
    "\n",
    "Finally, the function adds an output layer with a single unit and a ReLU activation function, which is a common choice for regression problems.\n",
    "\n",
    "The compile method is then called to specify the optimizer and loss function for the model. In this case, the optimizer is set to 'adam', which is an algorithm for gradient-based optimization of stochastic objective functions. The loss function is set to 'mean_squared_error', which is a common choice for regression problems.\n",
    "\n",
    "The display function is used to display a summary of the model architecture in the console, which includes the number of trainable parameters and the shape of each layer.\n",
    "\n",
    "The function returns the built model instance. The X_train_sc and window_len arguments are used to build the model and assigned to the variable model."
   ],
   "metadata": {
    "collapsed": false
   }
  },
  {
   "cell_type": "markdown",
   "id": "2c398100-7b27-4028-ad2b-94fa1c2101ad",
   "metadata": {},
   "source": [
    "### Fitting the RNN to training set"
   ]
  },
  {
   "cell_type": "code",
   "execution_count": null,
   "id": "971de10a-b677-4777-8a7c-5ae0285169bd",
   "metadata": {},
   "outputs": [],
   "source": [
    "model.fit(X_train_sc, y_train_sc, epochs=100, batch_size=64)"
   ]
  },
  {
   "cell_type": "markdown",
   "source": [
    "This is a line of code that trains the deep learning model on the training data X_train_sc and y_train_sc.\n",
    "\n",
    "The fit method is a built-in function in Keras that trains the model for a fixed number of epochs, which is set to 100 in this case. An epoch is one iteration over the entire training dataset.\n",
    "\n",
    "The batch_size parameter specifies the number of samples that the model should use for each update of the model weights during training. The batch size is set to 64, which means that the model weights will be updated after processing 64 samples.\n",
    "\n",
    "During training, the model uses backpropagation to compute the gradients of the loss function with respect to the model weights, and the optimizer updates the weights to minimize the loss.\n",
    "\n",
    "At the end of each epoch, the training loss is printed to the console, which gives an indication of how well the model is learning to predict the output y_train_sc given the input X_train_sc. The goal of training is to minimize the loss function over the training data, which will hopefully lead to good generalization performance on new, unseen data."
   ],
   "metadata": {
    "collapsed": false
   }
  },
  {
   "cell_type": "markdown",
   "id": "84a0bec7-9f76-4aff-96da-78d7235eb667",
   "metadata": {},
   "source": [
    "## Testing the model"
   ]
  },
  {
   "cell_type": "code",
   "execution_count": null,
   "id": "34817f7e-c354-4441-ae0b-d86d998f212e",
   "metadata": {},
   "outputs": [],
   "source": [
    "y_train_pred = scaler.inverse_transform(model.predict(X_train_sc))\n",
    "y_test_pred  = scaler.inverse_transform(model.predict(X_test_sc ))"
   ]
  },
  {
   "cell_type": "markdown",
   "source": [
    "This is a code snippet that uses the trained model to make predictions on the training and test data, and then inversely scales the predicted values to their original scales using the inverse_transform method of a scaler object.\n",
    "\n",
    "Assuming that scaler is a MinMaxScaler object that was used to normalize the input and output data before training, the inverse_transform method will rescale the data to its original range.\n",
    "\n",
    "The predict method of the trained model is used to generate the predicted values for both the training and test data. The predicted values are then stored in the variables y_train_pred and y_test_pred.\n",
    "\n",
    "Finally, the inverse_transform method is called on each of these variables to obtain the predicted values in their original scales. This allows us to compare the predicted values with the actual values and evaluate the performance of the model on the test set."
   ],
   "metadata": {
    "collapsed": false
   }
  },
  {
   "cell_type": "markdown",
   "id": "74739855-46a0-4de8-aa02-ac67a40a908f",
   "metadata": {},
   "source": [
    "### Mean Error"
   ]
  },
  {
   "cell_type": "code",
   "execution_count": null,
   "id": "473141f2-e8c3-490a-96b8-faa3a5dd1e85",
   "metadata": {},
   "outputs": [],
   "source": [
    "from sklearn.metrics import mean_squared_error, r2_score\n",
    "\n",
    "train_error = mean_squared_error(y_train_pred, y_train, squared=False)\n",
    "test_error  = mean_squared_error(y_test_pred , y_test , squared=False)\n",
    "\n",
    "print(f'Mean Training Error:', round(train_error, 2))\n",
    "print(f'Mean Testing  Error:', round(test_error , 2))\n",
    "\n",
    "print(f'Train Accuracy: {round(100*r2_score(y_train_pred , y_train), 2)}%')\n",
    "print(f'Test  Accuracy: {round(100*r2_score(y_test_pred  , y_test ), 2)}%')"
   ]
  },
  {
   "cell_type": "markdown",
   "source": [
    "The mean_squared_error function from the sklearn.metrics module is used to calculate the RMSE between the predicted and actual values for both the training and test datasets. The RMSE is a measure of how much the predicted values deviate from the actual values, on average, in the same units as the output variable. Lower RMSE values indicate better model performance.\n",
    "\n",
    "y_train_pred and y_test_pred are the predicted values for the training and test datasets, respectively, obtained by running the model on the input data using the predict method.\n",
    "y_train and y_test are the actual values for the training and test datasets, respectively.\n",
    "The squared=False parameter is passed to the function to return the RMSE instead of the MSE.\n",
    "\n",
    "The round function is used to round the RMSE values to two decimal places.\n",
    "The f string syntax is used to embed the RMSE values in the printed string.\n",
    "Next, the R-squared (R2) metric is calculated to measure how much of the variability in the output variable can be explained by the model. The r2_score function from the sklearn.metrics module is used to compute the R2 value for the predicted and actual values for both the training and test datasets.\n",
    "\n",
    "y_train_pred and y_test_pred are the predicted values for the training and test datasets, respectively, obtained by running the model on the input data using the predict method.\n",
    "y_train and y_test are the actual values for the training and test datasets, respectively.\n",
    "\n",
    "The round function is used to round the R2 values to two decimal places.\n",
    "The f string syntax is used to embed the R2 values in the printed string and format them as percentages.\n",
    "Higher R2 values indicate better model performance. An R2 value of 1.0 indicates that the model perfectly fits the data, while a value of 0 indicates that the model does no better than predicting the mean of the output variable. Negative R2 values indicate that the model performs worse than predicting the mean.\n",
    "\n",
    "Overall, the MSE and R2 values provide a quantitative assessment of the model's performance on the training and test datasets. By comparing the metrics across different models or hyperparameters, one can choose the best performing model for their task."
   ],
   "metadata": {
    "collapsed": false
   }
  },
  {
   "cell_type": "markdown",
   "id": "1cfa3985-4af2-44a6-8e90-559796c9ce9f",
   "metadata": {},
   "source": [
    "## Plotting Prediction vs Reality"
   ]
  },
  {
   "cell_type": "markdown",
   "id": "32ada9b0-d0c8-4ea9-989e-7dfa71e40b59",
   "metadata": {},
   "source": [
    "### Train Data"
   ]
  },
  {
   "cell_type": "code",
   "execution_count": null,
   "id": "e3795817-01c8-4850-8361-85c054d22ec7",
   "metadata": {},
   "outputs": [],
   "source": [
    "fig, ax = plt.subplots(figsize=(22, 6))\n",
    "\n",
    "ax.plot(df_train[feature][window_len:].index, y_train, label='Reality')\n",
    "ax.plot(df_train[feature][window_len:].index, y_train_pred, label='Prediction')\n",
    "\n",
    "ax.set_xlabel('Year', fontsize=12)\n",
    "ax.set_ylabel('Bitcoin Price (USD)', fontsize=12)\n",
    "ax.set_title('Reality vs Prediction - Closing Price of Bitcoin Train Data', fontsize=16)\n",
    "ax.legend(fontsize=12)"
   ]
  },
  {
   "cell_type": "markdown",
   "source": [
    "This code plots the actual and predicted values of the training set for the machine learning model. Here's what each line does:\n",
    "\n",
    "fig, ax = plt.subplots(figsize=(22, 6)): This creates a new figure with a size of 22 inches by 6 inches and returns a fig object and a ax object.\n",
    "ax.plot(df_train[feature][window_len:].index, y_train, label='Reality'): This plots the actual values of the training set on the ax object. The df_train[feature][window_len:].index expression selects the index values of the training data starting at the window_len index, and the y_train array contains the corresponding actual values. The label parameter is set to \"Reality\" to identify the line in the legend.\n",
    "ax.plot(df_train[feature][window_len:].index, y_train_pred, label='Prediction'): This plots the predicted values of the training set on the ax object. The df_train[feature][window_len:].index expression selects the index values of the training data starting at the window_len index, and the y_train_pred array contains the corresponding predicted values. The label parameter is set to \"Prediction\" to identify the line in the legend.\n",
    "ax.set_xlabel('Year', fontsize=12): This sets the x-axis label of the plot to \"Year\" with a font size of 12.\n",
    "ax.set_ylabel('Bitcoin Price (USD)', fontsize=12): This sets the y-axis label of the plot to \"Bitcoin Price (USD)\" with a font size of 12.\n",
    "ax.set_title('Reality vs Prediction - Closing Price of Bitcoin Train Data', fontsize=16): This sets the title of the plot to \"Reality vs Prediction - Closing Price of Bitcoin Train Data\" with a font size of 16.\n",
    "ax.legend(fontsize=12): This adds a legend to the plot with a font size of 12. The legend identifies the \"Reality\" and \"Prediction\" lines."
   ],
   "metadata": {
    "collapsed": false
   }
  },
  {
   "cell_type": "markdown",
   "id": "693fd7d5-7f85-4ff7-8fed-7dd4f5897730",
   "metadata": {},
   "source": [
    "### Test Data"
   ]
  },
  {
   "cell_type": "code",
   "execution_count": null,
   "id": "81fd3b0c-095a-466b-85d4-bf464f2f8ecd",
   "metadata": {},
   "outputs": [],
   "source": [
    "fig, ax = plt.subplots(figsize=(22, 6))\n",
    "\n",
    "\n",
    "ax.plot(df_test[feature][window_len:].index, y_test, label='Reality')\n",
    "ax.plot(df_test[feature][window_len:].index, y_test_pred, label='Prediction')\n",
    "\n",
    "ax.set_xlabel('Year', fontsize=12)\n",
    "ax.set_ylabel('Bitcoin Price (USD)', fontsize=12)\n",
    "ax.set_title('Reality vs Prediction - Closing Price of Bitcoin Test Data', fontsize=16)\n",
    "ax.legend(fontsize=12)"
   ]
  },
  {
   "cell_type": "markdown",
   "source": [
    "This code plots the actual and predicted values of the testing set for the machine learning model. Here's what each line does:\n",
    "\n",
    "fig, ax = plt.subplots(figsize=(22, 6)): This creates a new figure with a size of 22 inches by 6 inches and returns a fig object and a ax object.\n",
    "ax.plot(df_test[feature][window_len:].index, y_test, label='Reality'): This plots the actual values of the testing set on the ax object. The df_test[feature][window_len:].index expression selects the index values of the testing data starting at the window_len index, and the y_test array contains the corresponding actual values. The label parameter is set to \"Reality\" to identify the line in the legend.\n",
    "ax.plot(df_test[feature][window_len:].index, y_test_pred, label='Prediction'): This plots the predicted values of the testing set on the ax object. The df_test[feature][window_len:].index expression selects the index values of the testing data starting at the window_len index, and the y_test_pred array contains the corresponding predicted values. The label parameter is set to \"Prediction\" to identify the line in the legend.\n",
    "ax.set_xlabel('Year', fontsize=12): This sets the x-axis label of the plot to \"Year\" with a font size of 12.\n",
    "ax.set_ylabel('Bitcoin Price (USD)', fontsize=12): This sets the y-axis label of the plot to \"Bitcoin Price (USD)\" with a font size of 12.\n",
    "ax.set_title('Reality vs Prediction - Closing Price of Bitcoin Test Data', fontsize=16): This sets the title of the plot to \"Reality vs Prediction - Closing Price of Bitcoin Test Data\" with a font size of 16.\n",
    "ax.legend(fontsize=12): This adds a legend to the plot with a font size of 12. The legend identifies the \"Reality\" and \"Prediction\" lines."
   ],
   "metadata": {
    "collapsed": false
   }
  },
  {
   "cell_type": "code",
   "execution_count": null,
   "id": "8849320a-82ef-4e68-8e08-bc07e9fd7b32",
   "metadata": {},
   "outputs": [],
   "source": []
  }
 ],
 "metadata": {
  "kernelspec": {
   "display_name": "Python 3",
   "language": "python",
   "name": "python3"
  },
  "language_info": {
   "codemirror_mode": {
    "name": "ipython",
    "version": 3
   },
   "file_extension": ".py",
   "mimetype": "text/x-python",
   "name": "python",
   "nbconvert_exporter": "python",
   "pygments_lexer": "ipython3",
   "version": "3.9.4"
  }
 },
 "nbformat": 4,
 "nbformat_minor": 5
}
